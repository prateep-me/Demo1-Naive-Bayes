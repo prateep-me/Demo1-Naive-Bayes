{
  "nbformat": 4,
  "nbformat_minor": 0,
  "metadata": {
    "colab": {
      "name": "demo1.ipynb",
      "provenance": [],
      "collapsed_sections": [],
      "authorship_tag": "ABX9TyO9XheBnQcMzDWII1B7wz6B",
      "include_colab_link": true
    },
    "kernelspec": {
      "name": "python3",
      "display_name": "Python 3"
    }
  },
  "cells": [
    {
      "cell_type": "markdown",
      "metadata": {
        "id": "view-in-github",
        "colab_type": "text"
      },
      "source": [
        "<a href=\"https://colab.research.google.com/github/prateep-me/Demo1-Naive-Bayes/blob/master/demo1.ipynb\" target=\"_parent\"><img src=\"https://colab.research.google.com/assets/colab-badge.svg\" alt=\"Open In Colab\"/></a>"
      ]
    },
    {
      "cell_type": "code",
      "metadata": {
        "id": "g-3FGH47DBQo"
      },
      "source": [
        "import pandas as pd"
      ],
      "execution_count": 1,
      "outputs": []
    },
    {
      "cell_type": "code",
      "metadata": {
        "id": "UD66GA6SMISf",
        "outputId": "81edf325-811d-48a4-b00d-1d8299ae31ca",
        "colab": {
          "base_uri": "https://localhost:8080/",
          "height": 836
        }
      },
      "source": [
        "!pip install deepcut\n",
        "import deepcut"
      ],
      "execution_count": 8,
      "outputs": [
        {
          "output_type": "stream",
          "text": [
            "Collecting deepcut\n",
            "\u001b[?25l  Downloading https://files.pythonhosted.org/packages/ef/f3/ecda1d7dc51da0689b2df3d002541d0d04ac4db02c5d148eca48c8e3d219/deepcut-0.7.0.0-py3-none-any.whl (2.0MB)\n",
            "\r\u001b[K     |▏                               | 10kB 25.1MB/s eta 0:00:01\r\u001b[K     |▎                               | 20kB 5.6MB/s eta 0:00:01\r\u001b[K     |▌                               | 30kB 7.4MB/s eta 0:00:01\r\u001b[K     |▋                               | 40kB 8.2MB/s eta 0:00:01\r\u001b[K     |▉                               | 51kB 6.5MB/s eta 0:00:01\r\u001b[K     |█                               | 61kB 7.3MB/s eta 0:00:01\r\u001b[K     |█▏                              | 71kB 7.8MB/s eta 0:00:01\r\u001b[K     |█▎                              | 81kB 8.1MB/s eta 0:00:01\r\u001b[K     |█▌                              | 92kB 8.5MB/s eta 0:00:01\r\u001b[K     |█▋                              | 102kB 8.6MB/s eta 0:00:01\r\u001b[K     |█▉                              | 112kB 8.6MB/s eta 0:00:01\r\u001b[K     |██                              | 122kB 8.6MB/s eta 0:00:01\r\u001b[K     |██▏                             | 133kB 8.6MB/s eta 0:00:01\r\u001b[K     |██▎                             | 143kB 8.6MB/s eta 0:00:01\r\u001b[K     |██▍                             | 153kB 8.6MB/s eta 0:00:01\r\u001b[K     |██▋                             | 163kB 8.6MB/s eta 0:00:01\r\u001b[K     |██▊                             | 174kB 8.6MB/s eta 0:00:01\r\u001b[K     |███                             | 184kB 8.6MB/s eta 0:00:01\r\u001b[K     |███                             | 194kB 8.6MB/s eta 0:00:01\r\u001b[K     |███▎                            | 204kB 8.6MB/s eta 0:00:01\r\u001b[K     |███▍                            | 215kB 8.6MB/s eta 0:00:01\r\u001b[K     |███▋                            | 225kB 8.6MB/s eta 0:00:01\r\u001b[K     |███▊                            | 235kB 8.6MB/s eta 0:00:01\r\u001b[K     |████                            | 245kB 8.6MB/s eta 0:00:01\r\u001b[K     |████                            | 256kB 8.6MB/s eta 0:00:01\r\u001b[K     |████▎                           | 266kB 8.6MB/s eta 0:00:01\r\u001b[K     |████▍                           | 276kB 8.6MB/s eta 0:00:01\r\u001b[K     |████▋                           | 286kB 8.6MB/s eta 0:00:01\r\u001b[K     |████▊                           | 296kB 8.6MB/s eta 0:00:01\r\u001b[K     |████▉                           | 307kB 8.6MB/s eta 0:00:01\r\u001b[K     |█████                           | 317kB 8.6MB/s eta 0:00:01\r\u001b[K     |█████▏                          | 327kB 8.6MB/s eta 0:00:01\r\u001b[K     |█████▍                          | 337kB 8.6MB/s eta 0:00:01\r\u001b[K     |█████▌                          | 348kB 8.6MB/s eta 0:00:01\r\u001b[K     |█████▊                          | 358kB 8.6MB/s eta 0:00:01\r\u001b[K     |█████▉                          | 368kB 8.6MB/s eta 0:00:01\r\u001b[K     |██████                          | 378kB 8.6MB/s eta 0:00:01\r\u001b[K     |██████▏                         | 389kB 8.6MB/s eta 0:00:01\r\u001b[K     |██████▍                         | 399kB 8.6MB/s eta 0:00:01\r\u001b[K     |██████▌                         | 409kB 8.6MB/s eta 0:00:01\r\u001b[K     |██████▊                         | 419kB 8.6MB/s eta 0:00:01\r\u001b[K     |██████▉                         | 430kB 8.6MB/s eta 0:00:01\r\u001b[K     |███████                         | 440kB 8.6MB/s eta 0:00:01\r\u001b[K     |███████▏                        | 450kB 8.6MB/s eta 0:00:01\r\u001b[K     |███████▎                        | 460kB 8.6MB/s eta 0:00:01\r\u001b[K     |███████▌                        | 471kB 8.6MB/s eta 0:00:01\r\u001b[K     |███████▋                        | 481kB 8.6MB/s eta 0:00:01\r\u001b[K     |███████▉                        | 491kB 8.6MB/s eta 0:00:01\r\u001b[K     |████████                        | 501kB 8.6MB/s eta 0:00:01\r\u001b[K     |████████▏                       | 512kB 8.6MB/s eta 0:00:01\r\u001b[K     |████████▎                       | 522kB 8.6MB/s eta 0:00:01\r\u001b[K     |████████▌                       | 532kB 8.6MB/s eta 0:00:01\r\u001b[K     |████████▋                       | 542kB 8.6MB/s eta 0:00:01\r\u001b[K     |████████▉                       | 552kB 8.6MB/s eta 0:00:01\r\u001b[K     |█████████                       | 563kB 8.6MB/s eta 0:00:01\r\u001b[K     |█████████▏                      | 573kB 8.6MB/s eta 0:00:01\r\u001b[K     |█████████▎                      | 583kB 8.6MB/s eta 0:00:01\r\u001b[K     |█████████▌                      | 593kB 8.6MB/s eta 0:00:01\r\u001b[K     |█████████▋                      | 604kB 8.6MB/s eta 0:00:01\r\u001b[K     |█████████▊                      | 614kB 8.6MB/s eta 0:00:01\r\u001b[K     |██████████                      | 624kB 8.6MB/s eta 0:00:01\r\u001b[K     |██████████                      | 634kB 8.6MB/s eta 0:00:01\r\u001b[K     |██████████▎                     | 645kB 8.6MB/s eta 0:00:01\r\u001b[K     |██████████▍                     | 655kB 8.6MB/s eta 0:00:01\r\u001b[K     |██████████▋                     | 665kB 8.6MB/s eta 0:00:01\r\u001b[K     |██████████▊                     | 675kB 8.6MB/s eta 0:00:01\r\u001b[K     |███████████                     | 686kB 8.6MB/s eta 0:00:01\r\u001b[K     |███████████                     | 696kB 8.6MB/s eta 0:00:01\r\u001b[K     |███████████▎                    | 706kB 8.6MB/s eta 0:00:01\r\u001b[K     |███████████▍                    | 716kB 8.6MB/s eta 0:00:01\r\u001b[K     |███████████▋                    | 727kB 8.6MB/s eta 0:00:01\r\u001b[K     |███████████▊                    | 737kB 8.6MB/s eta 0:00:01\r\u001b[K     |████████████                    | 747kB 8.6MB/s eta 0:00:01\r\u001b[K     |████████████                    | 757kB 8.6MB/s eta 0:00:01\r\u001b[K     |████████████▏                   | 768kB 8.6MB/s eta 0:00:01\r\u001b[K     |████████████▍                   | 778kB 8.6MB/s eta 0:00:01\r\u001b[K     |████████████▌                   | 788kB 8.6MB/s eta 0:00:01\r\u001b[K     |████████████▊                   | 798kB 8.6MB/s eta 0:00:01\r\u001b[K     |████████████▉                   | 808kB 8.6MB/s eta 0:00:01\r\u001b[K     |█████████████                   | 819kB 8.6MB/s eta 0:00:01\r\u001b[K     |█████████████▏                  | 829kB 8.6MB/s eta 0:00:01\r\u001b[K     |█████████████▍                  | 839kB 8.6MB/s eta 0:00:01\r\u001b[K     |█████████████▌                  | 849kB 8.6MB/s eta 0:00:01\r\u001b[K     |█████████████▊                  | 860kB 8.6MB/s eta 0:00:01\r\u001b[K     |█████████████▉                  | 870kB 8.6MB/s eta 0:00:01\r\u001b[K     |██████████████                  | 880kB 8.6MB/s eta 0:00:01\r\u001b[K     |██████████████▏                 | 890kB 8.6MB/s eta 0:00:01\r\u001b[K     |██████████████▍                 | 901kB 8.6MB/s eta 0:00:01\r\u001b[K     |██████████████▌                 | 911kB 8.6MB/s eta 0:00:01\r\u001b[K     |██████████████▋                 | 921kB 8.6MB/s eta 0:00:01\r\u001b[K     |██████████████▉                 | 931kB 8.6MB/s eta 0:00:01\r\u001b[K     |███████████████                 | 942kB 8.6MB/s eta 0:00:01\r\u001b[K     |███████████████▏                | 952kB 8.6MB/s eta 0:00:01\r\u001b[K     |███████████████▎                | 962kB 8.6MB/s eta 0:00:01\r\u001b[K     |███████████████▌                | 972kB 8.6MB/s eta 0:00:01\r\u001b[K     |███████████████▋                | 983kB 8.6MB/s eta 0:00:01\r\u001b[K     |███████████████▉                | 993kB 8.6MB/s eta 0:00:01\r\u001b[K     |████████████████                | 1.0MB 8.6MB/s eta 0:00:01\r\u001b[K     |████████████████▏               | 1.0MB 8.6MB/s eta 0:00:01\r\u001b[K     |████████████████▎               | 1.0MB 8.6MB/s eta 0:00:01\r\u001b[K     |████████████████▌               | 1.0MB 8.6MB/s eta 0:00:01\r\u001b[K     |████████████████▋               | 1.0MB 8.6MB/s eta 0:00:01\r\u001b[K     |████████████████▉               | 1.1MB 8.6MB/s eta 0:00:01\r\u001b[K     |█████████████████               | 1.1MB 8.6MB/s eta 0:00:01\r\u001b[K     |█████████████████               | 1.1MB 8.6MB/s eta 0:00:01\r\u001b[K     |█████████████████▎              | 1.1MB 8.6MB/s eta 0:00:01\r\u001b[K     |█████████████████▍              | 1.1MB 8.6MB/s eta 0:00:01\r\u001b[K     |█████████████████▋              | 1.1MB 8.6MB/s eta 0:00:01\r\u001b[K     |█████████████████▊              | 1.1MB 8.6MB/s eta 0:00:01\r\u001b[K     |██████████████████              | 1.1MB 8.6MB/s eta 0:00:01\r\u001b[K     |██████████████████              | 1.1MB 8.6MB/s eta 0:00:01\r\u001b[K     |██████████████████▎             | 1.1MB 8.6MB/s eta 0:00:01\r\u001b[K     |██████████████████▍             | 1.2MB 8.6MB/s eta 0:00:01\r\u001b[K     |██████████████████▋             | 1.2MB 8.6MB/s eta 0:00:01\r\u001b[K     |██████████████████▊             | 1.2MB 8.6MB/s eta 0:00:01\r\u001b[K     |███████████████████             | 1.2MB 8.6MB/s eta 0:00:01\r\u001b[K     |███████████████████             | 1.2MB 8.6MB/s eta 0:00:01\r\u001b[K     |███████████████████▎            | 1.2MB 8.6MB/s eta 0:00:01\r\u001b[K     |███████████████████▍            | 1.2MB 8.6MB/s eta 0:00:01\r\u001b[K     |███████████████████▌            | 1.2MB 8.6MB/s eta 0:00:01\r\u001b[K     |███████████████████▊            | 1.2MB 8.6MB/s eta 0:00:01\r\u001b[K     |███████████████████▉            | 1.2MB 8.6MB/s eta 0:00:01\r\u001b[K     |████████████████████            | 1.3MB 8.6MB/s eta 0:00:01\r\u001b[K     |████████████████████▏           | 1.3MB 8.6MB/s eta 0:00:01\r\u001b[K     |████████████████████▍           | 1.3MB 8.6MB/s eta 0:00:01\r\u001b[K     |████████████████████▌           | 1.3MB 8.6MB/s eta 0:00:01\r\u001b[K     |████████████████████▊           | 1.3MB 8.6MB/s eta 0:00:01\r\u001b[K     |████████████████████▉           | 1.3MB 8.6MB/s eta 0:00:01\r\u001b[K     |█████████████████████           | 1.3MB 8.6MB/s eta 0:00:01\r\u001b[K     |█████████████████████▏          | 1.3MB 8.6MB/s eta 0:00:01\r\u001b[K     |█████████████████████▍          | 1.3MB 8.6MB/s eta 0:00:01\r\u001b[K     |█████████████████████▌          | 1.4MB 8.6MB/s eta 0:00:01\r\u001b[K     |█████████████████████▊          | 1.4MB 8.6MB/s eta 0:00:01\r\u001b[K     |█████████████████████▉          | 1.4MB 8.6MB/s eta 0:00:01\r\u001b[K     |██████████████████████          | 1.4MB 8.6MB/s eta 0:00:01\r\u001b[K     |██████████████████████▏         | 1.4MB 8.6MB/s eta 0:00:01\r\u001b[K     |██████████████████████▎         | 1.4MB 8.6MB/s eta 0:00:01\r\u001b[K     |██████████████████████▌         | 1.4MB 8.6MB/s eta 0:00:01\r\u001b[K     |██████████████████████▋         | 1.4MB 8.6MB/s eta 0:00:01\r\u001b[K     |██████████████████████▉         | 1.4MB 8.6MB/s eta 0:00:01\r\u001b[K     |███████████████████████         | 1.4MB 8.6MB/s eta 0:00:01\r\u001b[K     |███████████████████████▏        | 1.5MB 8.6MB/s eta 0:00:01\r\u001b[K     |███████████████████████▎        | 1.5MB 8.6MB/s eta 0:00:01\r\u001b[K     |███████████████████████▌        | 1.5MB 8.6MB/s eta 0:00:01\r\u001b[K     |███████████████████████▋        | 1.5MB 8.6MB/s eta 0:00:01\r\u001b[K     |███████████████████████▉        | 1.5MB 8.6MB/s eta 0:00:01\r\u001b[K     |████████████████████████        | 1.5MB 8.6MB/s eta 0:00:01\r\u001b[K     |████████████████████████        | 1.5MB 8.6MB/s eta 0:00:01\r\u001b[K     |████████████████████████▎       | 1.5MB 8.6MB/s eta 0:00:01\r\u001b[K     |████████████████████████▍       | 1.5MB 8.6MB/s eta 0:00:01\r\u001b[K     |████████████████████████▋       | 1.5MB 8.6MB/s eta 0:00:01\r\u001b[K     |████████████████████████▊       | 1.6MB 8.6MB/s eta 0:00:01\r\u001b[K     |█████████████████████████       | 1.6MB 8.6MB/s eta 0:00:01\r\u001b[K     |█████████████████████████       | 1.6MB 8.6MB/s eta 0:00:01\r\u001b[K     |█████████████████████████▎      | 1.6MB 8.6MB/s eta 0:00:01\r\u001b[K     |█████████████████████████▍      | 1.6MB 8.6MB/s eta 0:00:01\r\u001b[K     |█████████████████████████▋      | 1.6MB 8.6MB/s eta 0:00:01\r\u001b[K     |█████████████████████████▊      | 1.6MB 8.6MB/s eta 0:00:01\r\u001b[K     |██████████████████████████      | 1.6MB 8.6MB/s eta 0:00:01\r\u001b[K     |██████████████████████████      | 1.6MB 8.6MB/s eta 0:00:01\r\u001b[K     |██████████████████████████▎     | 1.6MB 8.6MB/s eta 0:00:01\r\u001b[K     |██████████████████████████▍     | 1.7MB 8.6MB/s eta 0:00:01\r\u001b[K     |██████████████████████████▌     | 1.7MB 8.6MB/s eta 0:00:01\r\u001b[K     |██████████████████████████▊     | 1.7MB 8.6MB/s eta 0:00:01\r\u001b[K     |██████████████████████████▉     | 1.7MB 8.6MB/s eta 0:00:01\r\u001b[K     |███████████████████████████     | 1.7MB 8.6MB/s eta 0:00:01\r\u001b[K     |███████████████████████████▏    | 1.7MB 8.6MB/s eta 0:00:01\r\u001b[K     |███████████████████████████▍    | 1.7MB 8.6MB/s eta 0:00:01\r\u001b[K     |███████████████████████████▌    | 1.7MB 8.6MB/s eta 0:00:01\r\u001b[K     |███████████████████████████▊    | 1.7MB 8.6MB/s eta 0:00:01\r\u001b[K     |███████████████████████████▉    | 1.8MB 8.6MB/s eta 0:00:01\r\u001b[K     |████████████████████████████    | 1.8MB 8.6MB/s eta 0:00:01\r\u001b[K     |████████████████████████████▏   | 1.8MB 8.6MB/s eta 0:00:01\r\u001b[K     |████████████████████████████▍   | 1.8MB 8.6MB/s eta 0:00:01\r\u001b[K     |████████████████████████████▌   | 1.8MB 8.6MB/s eta 0:00:01\r\u001b[K     |████████████████████████████▊   | 1.8MB 8.6MB/s eta 0:00:01\r\u001b[K     |████████████████████████████▉   | 1.8MB 8.6MB/s eta 0:00:01\r\u001b[K     |█████████████████████████████   | 1.8MB 8.6MB/s eta 0:00:01\r\u001b[K     |█████████████████████████████▏  | 1.8MB 8.6MB/s eta 0:00:01\r\u001b[K     |█████████████████████████████▎  | 1.8MB 8.6MB/s eta 0:00:01\r\u001b[K     |█████████████████████████████▌  | 1.9MB 8.6MB/s eta 0:00:01\r\u001b[K     |█████████████████████████████▋  | 1.9MB 8.6MB/s eta 0:00:01\r\u001b[K     |█████████████████████████████▉  | 1.9MB 8.6MB/s eta 0:00:01\r\u001b[K     |██████████████████████████████  | 1.9MB 8.6MB/s eta 0:00:01\r\u001b[K     |██████████████████████████████▏ | 1.9MB 8.6MB/s eta 0:00:01\r\u001b[K     |██████████████████████████████▎ | 1.9MB 8.6MB/s eta 0:00:01\r\u001b[K     |██████████████████████████████▌ | 1.9MB 8.6MB/s eta 0:00:01\r\u001b[K     |██████████████████████████████▋ | 1.9MB 8.6MB/s eta 0:00:01\r\u001b[K     |██████████████████████████████▉ | 1.9MB 8.6MB/s eta 0:00:01\r\u001b[K     |███████████████████████████████ | 1.9MB 8.6MB/s eta 0:00:01\r\u001b[K     |███████████████████████████████▏| 2.0MB 8.6MB/s eta 0:00:01\r\u001b[K     |███████████████████████████████▎| 2.0MB 8.6MB/s eta 0:00:01\r\u001b[K     |███████████████████████████████▍| 2.0MB 8.6MB/s eta 0:00:01\r\u001b[K     |███████████████████████████████▋| 2.0MB 8.6MB/s eta 0:00:01\r\u001b[K     |███████████████████████████████▊| 2.0MB 8.6MB/s eta 0:00:01\r\u001b[K     |████████████████████████████████| 2.0MB 8.6MB/s eta 0:00:01\r\u001b[K     |████████████████████████████████| 2.0MB 8.6MB/s \n",
            "\u001b[?25hRequirement already satisfied: pandas in /usr/local/lib/python3.6/dist-packages (from deepcut) (1.1.2)\n",
            "Requirement already satisfied: scipy in /usr/local/lib/python3.6/dist-packages (from deepcut) (1.4.1)\n",
            "Requirement already satisfied: numpy in /usr/local/lib/python3.6/dist-packages (from deepcut) (1.18.5)\n",
            "Requirement already satisfied: tensorflow>=2.0.0 in /usr/local/lib/python3.6/dist-packages (from deepcut) (2.3.0)\n",
            "Requirement already satisfied: scikit-learn in /usr/local/lib/python3.6/dist-packages (from deepcut) (0.22.2.post1)\n",
            "Requirement already satisfied: h5py in /usr/local/lib/python3.6/dist-packages (from deepcut) (2.10.0)\n",
            "Requirement already satisfied: pytz>=2017.2 in /usr/local/lib/python3.6/dist-packages (from pandas->deepcut) (2018.9)\n",
            "Requirement already satisfied: python-dateutil>=2.7.3 in /usr/local/lib/python3.6/dist-packages (from pandas->deepcut) (2.8.1)\n",
            "Requirement already satisfied: wrapt>=1.11.1 in /usr/local/lib/python3.6/dist-packages (from tensorflow>=2.0.0->deepcut) (1.12.1)\n",
            "Requirement already satisfied: absl-py>=0.7.0 in /usr/local/lib/python3.6/dist-packages (from tensorflow>=2.0.0->deepcut) (0.10.0)\n",
            "Requirement already satisfied: protobuf>=3.9.2 in /usr/local/lib/python3.6/dist-packages (from tensorflow>=2.0.0->deepcut) (3.12.4)\n",
            "Requirement already satisfied: astunparse==1.6.3 in /usr/local/lib/python3.6/dist-packages (from tensorflow>=2.0.0->deepcut) (1.6.3)\n",
            "Requirement already satisfied: gast==0.3.3 in /usr/local/lib/python3.6/dist-packages (from tensorflow>=2.0.0->deepcut) (0.3.3)\n",
            "Requirement already satisfied: google-pasta>=0.1.8 in /usr/local/lib/python3.6/dist-packages (from tensorflow>=2.0.0->deepcut) (0.2.0)\n",
            "Requirement already satisfied: keras-preprocessing<1.2,>=1.1.1 in /usr/local/lib/python3.6/dist-packages (from tensorflow>=2.0.0->deepcut) (1.1.2)\n",
            "Requirement already satisfied: wheel>=0.26 in /usr/local/lib/python3.6/dist-packages (from tensorflow>=2.0.0->deepcut) (0.35.1)\n",
            "Requirement already satisfied: tensorflow-estimator<2.4.0,>=2.3.0 in /usr/local/lib/python3.6/dist-packages (from tensorflow>=2.0.0->deepcut) (2.3.0)\n",
            "Requirement already satisfied: opt-einsum>=2.3.2 in /usr/local/lib/python3.6/dist-packages (from tensorflow>=2.0.0->deepcut) (3.3.0)\n",
            "Requirement already satisfied: termcolor>=1.1.0 in /usr/local/lib/python3.6/dist-packages (from tensorflow>=2.0.0->deepcut) (1.1.0)\n",
            "Requirement already satisfied: tensorboard<3,>=2.3.0 in /usr/local/lib/python3.6/dist-packages (from tensorflow>=2.0.0->deepcut) (2.3.0)\n",
            "Requirement already satisfied: grpcio>=1.8.6 in /usr/local/lib/python3.6/dist-packages (from tensorflow>=2.0.0->deepcut) (1.32.0)\n",
            "Requirement already satisfied: six>=1.12.0 in /usr/local/lib/python3.6/dist-packages (from tensorflow>=2.0.0->deepcut) (1.15.0)\n",
            "Requirement already satisfied: joblib>=0.11 in /usr/local/lib/python3.6/dist-packages (from scikit-learn->deepcut) (0.16.0)\n",
            "Requirement already satisfied: setuptools in /usr/local/lib/python3.6/dist-packages (from protobuf>=3.9.2->tensorflow>=2.0.0->deepcut) (50.3.0)\n",
            "Requirement already satisfied: google-auth-oauthlib<0.5,>=0.4.1 in /usr/local/lib/python3.6/dist-packages (from tensorboard<3,>=2.3.0->tensorflow>=2.0.0->deepcut) (0.4.1)\n",
            "Requirement already satisfied: google-auth<2,>=1.6.3 in /usr/local/lib/python3.6/dist-packages (from tensorboard<3,>=2.3.0->tensorflow>=2.0.0->deepcut) (1.17.2)\n",
            "Requirement already satisfied: tensorboard-plugin-wit>=1.6.0 in /usr/local/lib/python3.6/dist-packages (from tensorboard<3,>=2.3.0->tensorflow>=2.0.0->deepcut) (1.7.0)\n",
            "Requirement already satisfied: markdown>=2.6.8 in /usr/local/lib/python3.6/dist-packages (from tensorboard<3,>=2.3.0->tensorflow>=2.0.0->deepcut) (3.2.2)\n",
            "Requirement already satisfied: requests<3,>=2.21.0 in /usr/local/lib/python3.6/dist-packages (from tensorboard<3,>=2.3.0->tensorflow>=2.0.0->deepcut) (2.23.0)\n",
            "Requirement already satisfied: werkzeug>=0.11.15 in /usr/local/lib/python3.6/dist-packages (from tensorboard<3,>=2.3.0->tensorflow>=2.0.0->deepcut) (1.0.1)\n",
            "Requirement already satisfied: requests-oauthlib>=0.7.0 in /usr/local/lib/python3.6/dist-packages (from google-auth-oauthlib<0.5,>=0.4.1->tensorboard<3,>=2.3.0->tensorflow>=2.0.0->deepcut) (1.3.0)\n",
            "Requirement already satisfied: rsa<5,>=3.1.4; python_version >= \"3\" in /usr/local/lib/python3.6/dist-packages (from google-auth<2,>=1.6.3->tensorboard<3,>=2.3.0->tensorflow>=2.0.0->deepcut) (4.6)\n",
            "Requirement already satisfied: pyasn1-modules>=0.2.1 in /usr/local/lib/python3.6/dist-packages (from google-auth<2,>=1.6.3->tensorboard<3,>=2.3.0->tensorflow>=2.0.0->deepcut) (0.2.8)\n",
            "Requirement already satisfied: cachetools<5.0,>=2.0.0 in /usr/local/lib/python3.6/dist-packages (from google-auth<2,>=1.6.3->tensorboard<3,>=2.3.0->tensorflow>=2.0.0->deepcut) (4.1.1)\n",
            "Requirement already satisfied: importlib-metadata; python_version < \"3.8\" in /usr/local/lib/python3.6/dist-packages (from markdown>=2.6.8->tensorboard<3,>=2.3.0->tensorflow>=2.0.0->deepcut) (2.0.0)\n",
            "Requirement already satisfied: certifi>=2017.4.17 in /usr/local/lib/python3.6/dist-packages (from requests<3,>=2.21.0->tensorboard<3,>=2.3.0->tensorflow>=2.0.0->deepcut) (2020.6.20)\n",
            "Requirement already satisfied: idna<3,>=2.5 in /usr/local/lib/python3.6/dist-packages (from requests<3,>=2.21.0->tensorboard<3,>=2.3.0->tensorflow>=2.0.0->deepcut) (2.10)\n",
            "Requirement already satisfied: urllib3!=1.25.0,!=1.25.1,<1.26,>=1.21.1 in /usr/local/lib/python3.6/dist-packages (from requests<3,>=2.21.0->tensorboard<3,>=2.3.0->tensorflow>=2.0.0->deepcut) (1.24.3)\n",
            "Requirement already satisfied: chardet<4,>=3.0.2 in /usr/local/lib/python3.6/dist-packages (from requests<3,>=2.21.0->tensorboard<3,>=2.3.0->tensorflow>=2.0.0->deepcut) (3.0.4)\n",
            "Requirement already satisfied: oauthlib>=3.0.0 in /usr/local/lib/python3.6/dist-packages (from requests-oauthlib>=0.7.0->google-auth-oauthlib<0.5,>=0.4.1->tensorboard<3,>=2.3.0->tensorflow>=2.0.0->deepcut) (3.1.0)\n",
            "Requirement already satisfied: pyasn1>=0.1.3 in /usr/local/lib/python3.6/dist-packages (from rsa<5,>=3.1.4; python_version >= \"3\"->google-auth<2,>=1.6.3->tensorboard<3,>=2.3.0->tensorflow>=2.0.0->deepcut) (0.4.8)\n",
            "Requirement already satisfied: zipp>=0.5 in /usr/local/lib/python3.6/dist-packages (from importlib-metadata; python_version < \"3.8\"->markdown>=2.6.8->tensorboard<3,>=2.3.0->tensorflow>=2.0.0->deepcut) (3.2.0)\n",
            "Installing collected packages: deepcut\n",
            "Successfully installed deepcut-0.7.0.0\n"
          ],
          "name": "stdout"
        }
      ]
    },
    {
      "cell_type": "code",
      "metadata": {
        "id": "PgwhT5u5M9Li"
      },
      "source": [
        "import re"
      ],
      "execution_count": 3,
      "outputs": []
    },
    {
      "cell_type": "code",
      "metadata": {
        "id": "TAbfrsgPNxWO"
      },
      "source": [
        "import numpy as np"
      ],
      "execution_count": 4,
      "outputs": []
    },
    {
      "cell_type": "code",
      "metadata": {
        "id": "11V4XOKsN3uk"
      },
      "source": [
        "from nltk import FreqDist, precision, recall, f_measure, NaiveBayesClassifier\n",
        "from nltk.classify import apply_features\n",
        "from nltk.classify import util"
      ],
      "execution_count": 5,
      "outputs": []
    },
    {
      "cell_type": "code",
      "metadata": {
        "id": "9zNkn_uKN8oI"
      },
      "source": [
        "from sklearn.model_selection import KFold"
      ],
      "execution_count": 6,
      "outputs": []
    },
    {
      "cell_type": "code",
      "metadata": {
        "id": "3x2yp2NvOAv0"
      },
      "source": [
        "import collections, itertools"
      ],
      "execution_count": 7,
      "outputs": []
    },
    {
      "cell_type": "code",
      "metadata": {
        "id": "mPZN_fk5ODHz"
      },
      "source": [
        ""
      ],
      "execution_count": null,
      "outputs": []
    }
  ]
}